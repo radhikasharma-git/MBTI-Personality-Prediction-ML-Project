{
 "cells": [
  {
   "cell_type": "code",
   "execution_count": 84,
   "id": "5796f338-a0d9-48fb-be40-f257075f10a6",
   "metadata": {},
   "outputs": [],
   "source": [
    "# Import Libraries\n",
    "import numpy as np\n",
    "import pandas as pd\n",
    "import tensorflow as tf\n",
    "import pickle\n",
    "\n",
    "import tensorflow as tf\n",
    "from tensorflow.keras.models import Sequential\n",
    "from tensorflow.keras.layers import Embedding, LSTM, Dropout, Dense\n",
    "\n",
    "import matplotlib.pyplot as plt\n",
    "\n",
    "from sklearn.model_selection import train_test_split\n",
    "from sklearn import preprocessing\n",
    "\n",
    "\n",
    "from tensorflow import keras\n",
    "\n",
    "from tensorflow.keras.layers.experimental.preprocessing import TextVectorization\n",
    "from tensorflow.keras import layers\n",
    "from keras.callbacks import EarlyStopping, ModelCheckpoint"
   ]
  },
  {
   "cell_type": "code",
   "execution_count": 20,
   "id": "1afd7150-4b56-416d-8292-51a8c9331123",
   "metadata": {},
   "outputs": [],
   "source": [
    "mbti_df=pd.read_csv(\"01_MBTI_DataCleaned.csv\")"
   ]
  },
  {
   "cell_type": "code",
   "execution_count": 21,
   "id": "d8cc8df8-81f4-4385-b0c8-ac2cec44f033",
   "metadata": {},
   "outputs": [
    {
     "data": {
      "text/html": [
       "<div>\n",
       "<style scoped>\n",
       "    .dataframe tbody tr th:only-of-type {\n",
       "        vertical-align: middle;\n",
       "    }\n",
       "\n",
       "    .dataframe tbody tr th {\n",
       "        vertical-align: top;\n",
       "    }\n",
       "\n",
       "    .dataframe thead th {\n",
       "        text-align: right;\n",
       "    }\n",
       "</style>\n",
       "<table border=\"1\" class=\"dataframe\">\n",
       "  <thead>\n",
       "    <tr style=\"text-align: right;\">\n",
       "      <th></th>\n",
       "      <th>type</th>\n",
       "      <th>posts</th>\n",
       "      <th>text_cleaned</th>\n",
       "      <th>tokens_text</th>\n",
       "      <th>type_index</th>\n",
       "    </tr>\n",
       "  </thead>\n",
       "  <tbody>\n",
       "    <tr>\n",
       "      <th>0</th>\n",
       "      <td>INFJ</td>\n",
       "      <td>'http://www.youtube.com/watch?v=qsXHcwe3krw|||...</td>\n",
       "      <td>enfp intj moments sportscenter top ten plays p...</td>\n",
       "      <td>['enfp', 'intj', 'moments', 'sportscenter', 't...</td>\n",
       "      <td>8</td>\n",
       "    </tr>\n",
       "    <tr>\n",
       "      <th>1</th>\n",
       "      <td>ENTP</td>\n",
       "      <td>'I'm finding the lack of me in these posts ver...</td>\n",
       "      <td>finding lack posts alarming sex boring positio...</td>\n",
       "      <td>['finding', 'lack', 'posts', 'alarming', 'sex'...</td>\n",
       "      <td>3</td>\n",
       "    </tr>\n",
       "    <tr>\n",
       "      <th>2</th>\n",
       "      <td>INTP</td>\n",
       "      <td>'Good one  _____   https://www.youtube.com/wat...</td>\n",
       "      <td>one course say know blessing curse absolutely ...</td>\n",
       "      <td>['one', 'course', 'say', 'know', 'blessing', '...</td>\n",
       "      <td>11</td>\n",
       "    </tr>\n",
       "    <tr>\n",
       "      <th>3</th>\n",
       "      <td>INTJ</td>\n",
       "      <td>'Dear INTP,   I enjoyed our conversation the o...</td>\n",
       "      <td>intp enjoyed conversation day esoteric gabbing...</td>\n",
       "      <td>['intp', 'enjoyed', 'conversation', 'day', 'es...</td>\n",
       "      <td>10</td>\n",
       "    </tr>\n",
       "    <tr>\n",
       "      <th>4</th>\n",
       "      <td>ENTJ</td>\n",
       "      <td>'You're fired.|||That's another silly misconce...</td>\n",
       "      <td>fired another silly misconception approaching ...</td>\n",
       "      <td>['fired', 'another', 'silly', 'misconception',...</td>\n",
       "      <td>2</td>\n",
       "    </tr>\n",
       "  </tbody>\n",
       "</table>\n",
       "</div>"
      ],
      "text/plain": [
       "   type                                              posts  \\\n",
       "0  INFJ  'http://www.youtube.com/watch?v=qsXHcwe3krw|||...   \n",
       "1  ENTP  'I'm finding the lack of me in these posts ver...   \n",
       "2  INTP  'Good one  _____   https://www.youtube.com/wat...   \n",
       "3  INTJ  'Dear INTP,   I enjoyed our conversation the o...   \n",
       "4  ENTJ  'You're fired.|||That's another silly misconce...   \n",
       "\n",
       "                                        text_cleaned  \\\n",
       "0  enfp intj moments sportscenter top ten plays p...   \n",
       "1  finding lack posts alarming sex boring positio...   \n",
       "2  one course say know blessing curse absolutely ...   \n",
       "3  intp enjoyed conversation day esoteric gabbing...   \n",
       "4  fired another silly misconception approaching ...   \n",
       "\n",
       "                                         tokens_text  type_index  \n",
       "0  ['enfp', 'intj', 'moments', 'sportscenter', 't...           8  \n",
       "1  ['finding', 'lack', 'posts', 'alarming', 'sex'...           3  \n",
       "2  ['one', 'course', 'say', 'know', 'blessing', '...          11  \n",
       "3  ['intp', 'enjoyed', 'conversation', 'day', 'es...          10  \n",
       "4  ['fired', 'another', 'silly', 'misconception',...           2  "
      ]
     },
     "execution_count": 21,
     "metadata": {},
     "output_type": "execute_result"
    }
   ],
   "source": [
    "mbti_df.head()"
   ]
  },
  {
   "cell_type": "code",
   "execution_count": 29,
   "id": "73198d69-7e95-4344-8e73-df46829397d4",
   "metadata": {},
   "outputs": [
    {
     "data": {
      "text/plain": [
       "(8675, 5)"
      ]
     },
     "execution_count": 29,
     "metadata": {},
     "output_type": "execute_result"
    }
   ],
   "source": [
    "mbti_df.shape"
   ]
  },
  {
   "cell_type": "code",
   "execution_count": 32,
   "id": "3bb5ccc3-7a0e-435d-b6cd-0f0851b05b80",
   "metadata": {},
   "outputs": [
    {
     "data": {
      "text/plain": [
       "(8674, 5)"
      ]
     },
     "execution_count": 32,
     "metadata": {},
     "output_type": "execute_result"
    }
   ],
   "source": [
    "mbti_df = mbti_df.loc[~mbti_df['text_cleaned'].apply(lambda x: isinstance(x, float))]\n",
    "mbti_df.shape"
   ]
  },
  {
   "cell_type": "markdown",
   "id": "84e2183f-699f-47a1-81e8-a221ffffd48d",
   "metadata": {},
   "source": [
    "### Class Balance"
   ]
  },
  {
   "cell_type": "code",
   "execution_count": 143,
   "id": "f732084f-9c9a-4e72-a449-66ac04aa030e",
   "metadata": {},
   "outputs": [],
   "source": [
    "#Column with clean text\n",
    "textVar = mbti_df[\"text_cleaned\"]\n",
    "\n",
    "#Target columns (sentiment, class, etc.)\n",
    "targetVar = mbti_df[\"type\"]"
   ]
  },
  {
   "cell_type": "code",
   "execution_count": 144,
   "id": "a6f8702c-5cb2-4f9e-baed-e18918e4e072",
   "metadata": {},
   "outputs": [
    {
     "data": {
      "image/png": "[encoded data removed]",
      "text/plain": [
       "<Figure size 640x480 with 1 Axes>"
      ]
     },
     "metadata": {},
     "output_type": "display_data"
    }
   ],
   "source": [
    "countClasses = pd.value_counts(targetVar.values, sort=True)\n",
    "countClasses.plot.bar(legend=None, title=\"Target Class Distribution\")\n",
    "plt.show()"
   ]
  },
  {
   "cell_type": "code",
   "execution_count": 63,
   "id": "15cada24-7d80-4266-87a1-f97fab55124c",
   "metadata": {},
   "outputs": [],
   "source": [
    "mbti_raw = mbti_df.copy()"
   ]
  },
  {
   "cell_type": "code",
   "execution_count": 73,
   "id": "7f5bbfff-1e62-4587-8d05-b611c6132f37",
   "metadata": {},
   "outputs": [],
   "source": [
    "grouped = mbti_raw.groupby('type')\n",
    "mbti_bal = pd.DataFrame(grouped.apply(lambda x: x.sample(grouped.size().min())))\n",
    "mbti_bal.reset_index(drop=True, inplace=True)"
   ]
  },
  {
   "cell_type": "code",
   "execution_count": 74,
   "id": "532174b4-fcc6-47e9-a581-b5eed48356ab",
   "metadata": {},
   "outputs": [
    {
     "data": {
      "text/plain": [
       "(624, 5)"
      ]
     },
     "execution_count": 74,
     "metadata": {},
     "output_type": "execute_result"
    }
   ],
   "source": [
    "mbti_bal.shape"
   ]
  },
  {
   "cell_type": "code",
   "execution_count": 75,
   "id": "9ed567e7-a925-4943-9493-f3d0f52876fa",
   "metadata": {},
   "outputs": [],
   "source": [
    "# #Column with clean text\n",
    "# textVar = mbti_bal[\"text_cleaned\"]\n",
    "# #Target columns (sentiment, class, etc.)\n",
    "# targetVar = mbti_bal[\"type\"]"
   ]
  },
  {
   "cell_type": "code",
   "execution_count": 76,
   "id": "63f697fc-be01-4f5d-8bea-bff1a83dcfd3",
   "metadata": {},
   "outputs": [
    {
     "data": {
      "image/png": "[encoded data removed]",
      "text/plain": [
       "<Figure size 640x480 with 1 Axes>"
      ]
     },
     "metadata": {},
     "output_type": "display_data"
    }
   ],
   "source": [
    "countClasses = pd.value_counts(targetVar.values, sort=True)\n",
    "countClasses.plot.bar(legend=None, title=\"Target Class Distribution\")\n",
    "plt.show()"
   ]
  },
  {
   "cell_type": "code",
   "execution_count": 179,
   "id": "d0026211-1ca0-495e-b83c-e3c2686786b3",
   "metadata": {},
   "outputs": [],
   "source": [
    "# make our experiments repeatable\n",
    "np.random.seed(0)\n",
    "\n",
    "# Model Hyperparameters\n",
    "embedding_dim = 100\n",
    "\n",
    "# Training parameters. Here we specify the training of the net will use 64 examples for each backprop iteration\n",
    "batch_size = 16\n",
    "# We will go thru the entire data set 20 times\n",
    "num_epochs = 20\n",
    "\n",
    "# Prepossessing parameters\n",
    "# We will only input the first \"sequence_length\" words of every Yelp review (and pad out with nulls if the text is < \"sequence_length\n",
    "# We will also build our model using the most frequent 20000 words in our tweet 'dictionary'\n",
    "sequence_length = 8000\n",
    "max_features = 20000\n",
    "\n",
    "#Specify the number of classes to predict (1 for binary classification or count unique values for multilabel classification)\n",
    "# num_classes = 1\n",
    "num_classes = targetVar.nunique()"
   ]
  },
  {
   "cell_type": "code",
   "execution_count": 180,
   "id": "f1b15e55-774b-46d6-b2d1-9eb2ca92e488",
   "metadata": {},
   "outputs": [],
   "source": [
    "X = textVar.values\n",
    "Y = pd.get_dummies(targetVar).values"
   ]
  },
  {
   "cell_type": "code",
   "execution_count": 181,
   "id": "0edc8b6c-0380-4a50-a317-ade6be1bde3b",
   "metadata": {},
   "outputs": [],
   "source": [
    "train_samples, val_samples, train_labels, val_labels = train_test_split(X,Y, stratify=targetVar, test_size = 0.33, random_state = 1010)"
   ]
  },
  {
   "cell_type": "code",
   "execution_count": 182,
   "id": "2cf4aa4a-b257-4061-8a51-f9d5e70f357b",
   "metadata": {},
   "outputs": [
    {
     "name": "stdout",
     "output_type": "stream",
     "text": [
      "(5811,) (5811, 16)\n",
      "(2863,) (2863, 16)\n"
     ]
    }
   ],
   "source": [
    "# Check how many columns we have, make sure we have our sequence length set correctly\n",
    "\n",
    "print(train_samples.shape,train_labels.shape)\n",
    "print(val_samples.shape,val_labels.shape)"
   ]
  },
  {
   "cell_type": "code",
   "execution_count": 183,
   "id": "ecfeff69-d2d5-4721-8a99-3fc5c7b4fd11",
   "metadata": {},
   "outputs": [
    {
     "name": "stderr",
     "output_type": "stream",
     "text": [
      "2023-05-23 19:00:21.844035: I tensorflow/core/common_runtime/executor.cc:1197] [/device:CPU:0] (DEBUG INFO) Executor start aborting (this does not indicate an error and you can ignore this message): INVALID_ARGUMENT: You must feed a value for placeholder tensor 'Placeholder/_0' with dtype string and shape [5811]\n",
      "\t [[{{node Placeholder/_0}}]]\n"
     ]
    }
   ],
   "source": [
    "vectorizer = TextVectorization(max_tokens=max_features, output_sequence_length=sequence_length, ngrams=None, pad_to_max_tokens=True)\n",
    "\n",
    "text_ds = tf.data.Dataset.from_tensor_slices(train_samples).batch(128)\n",
    "vectorizer.adapt(text_ds)"
   ]
  },
  {
   "cell_type": "code",
   "execution_count": 184,
   "id": "9d6f4599-2c91-4ed2-8d90-e31372162bea",
   "metadata": {},
   "outputs": [
    {
     "data": {
      "text/plain": [
       "['', '[UNK]', 'like', 'think', 'people']"
      ]
     },
     "execution_count": 184,
     "metadata": {},
     "output_type": "execute_result"
    }
   ],
   "source": [
    "vectorizer.get_vocabulary()[:5]"
   ]
  },
  {
   "cell_type": "code",
   "execution_count": 185,
   "id": "9842b2ce-ec05-455a-a04c-fdbe57530517",
   "metadata": {},
   "outputs": [],
   "source": [
    "X_train = vectorizer(np.array([[s] for s in train_samples])).numpy()\n",
    "X_test = vectorizer(np.array([[s] for s in val_samples])).numpy()\n",
    "\n",
    "Y_train = np.array(train_labels)\n",
    "Y_test = np.array(val_labels)"
   ]
  },
  {
   "cell_type": "code",
   "execution_count": 186,
   "id": "3bb3427e-79a8-4353-9f3a-fad10e75ba05",
   "metadata": {},
   "outputs": [
    {
     "name": "stdout",
     "output_type": "stream",
     "text": [
      "Found 400000 word vectors.\n"
     ]
    }
   ],
   "source": [
    "import os, re, time\n",
    "\n",
    "embeddings_index = {}\n",
    "\n",
    "glove_dir = '/home/jupyter/wordvec/'\n",
    "f = open(os.path.join(glove_dir, 'glove.6B.100d.txt'), encoding=\"utf8\")\n",
    "\n",
    "for line in f:\n",
    "    values = line.split()\n",
    "    word = values[0]\n",
    "    coefs = np.asarray(values[1:], dtype='float32')\n",
    "    embeddings_index[word] = coefs\n",
    "f.close()\n",
    "\n",
    "print('Found %s word vectors.' % len(embeddings_index))"
   ]
  },
  {
   "cell_type": "code",
   "execution_count": 187,
   "id": "ea572eb4-ec87-494a-a955-4b6eaef3d988",
   "metadata": {},
   "outputs": [],
   "source": [
    "voc = vectorizer.get_vocabulary()\n",
    "word_index = dict(zip(voc, range(len(voc))))"
   ]
  },
  {
   "cell_type": "code",
   "execution_count": 188,
   "id": "77699be6-69a2-4f94-905d-6f2096aeba0f",
   "metadata": {},
   "outputs": [
    {
     "name": "stdout",
     "output_type": "stream",
     "text": [
      "Converted 19199 words (801 misses)\n"
     ]
    }
   ],
   "source": [
    "num_tokens = len(voc) + 2\n",
    "hits = 0\n",
    "misses = 0\n",
    "\n",
    "# Prepare embedding matrix\n",
    "embedding_matrix = np.zeros((num_tokens, embedding_dim))\n",
    "for word, i in word_index.items():\n",
    "    embedding_vector = embeddings_index.get(word)\n",
    "    if embedding_vector is not None:\n",
    "        # Words not found in embedding index will be all-zeros.\n",
    "        # This includes the representation for \"padding\" and \"OOV\"\n",
    "        embedding_matrix[i] = embedding_vector\n",
    "        hits += 1\n",
    "    else:\n",
    "        misses += 1\n",
    "print(\"Converted %d words (%d misses)\" % (hits, misses))"
   ]
  },
  {
   "cell_type": "code",
   "execution_count": 189,
   "id": "5ff5480f-b2bb-49f1-8752-2c629f5dbbad",
   "metadata": {},
   "outputs": [],
   "source": [
    "embedding_layer = Embedding(\n",
    "    num_tokens,\n",
    "    embedding_dim,\n",
    "    embeddings_initializer=keras.initializers.Constant(embedding_matrix),\n",
    "    trainable=False,)"
   ]
  },
  {
   "cell_type": "code",
   "execution_count": 190,
   "id": "5fbbe90c-5c01-4c6a-8a8b-b1b81426366e",
   "metadata": {},
   "outputs": [],
   "source": [
    "from tensorflow.keras import regularizers\n"
   ]
  },
  {
   "cell_type": "code",
   "execution_count": 191,
   "id": "3dc3ea7a-33a6-428e-a87f-4ffcb251d163",
   "metadata": {},
   "outputs": [
    {
     "name": "stdout",
     "output_type": "stream",
     "text": [
      "Model: \"model_11\"\n",
      "_________________________________________________________________\n",
      " Layer (type)                Output Shape              Param #   \n",
      "=================================================================\n",
      " input_13 (InputLayer)       [(None, None)]            0         \n",
      "                                                                 \n",
      " embedding_7 (Embedding)     (None, None, 100)         2000200   \n",
      "                                                                 \n",
      " conv1d_26 (Conv1D)          (None, None, 64)          19264     \n",
      "                                                                 \n",
      " max_pooling1d_14 (MaxPoolin  (None, None, 64)         0         \n",
      " g1D)                                                            \n",
      "                                                                 \n",
      " conv1d_27 (Conv1D)          (None, None, 64)          12352     \n",
      "                                                                 \n",
      " global_max_pooling1d_12 (Gl  (None, 64)               0         \n",
      " obalMaxPooling1D)                                               \n",
      "                                                                 \n",
      " dense_33 (Dense)            (None, 64)                4160      \n",
      "                                                                 \n",
      " dense_34 (Dense)            (None, 32)                2080      \n",
      "                                                                 \n",
      " dropout_15 (Dropout)        (None, 32)                0         \n",
      "                                                                 \n",
      " dense_35 (Dense)            (None, 16)                528       \n",
      "                                                                 \n",
      "=================================================================\n",
      "Total params: 2,038,584\n",
      "Trainable params: 38,384\n",
      "Non-trainable params: 2,000,200\n",
      "_________________________________________________________________\n"
     ]
    }
   ],
   "source": [
    "int_sequences_input = keras.Input(shape=(None,), dtype=\"int64\")\n",
    "embedded_sequences = embedding_layer(int_sequences_input)\n",
    "x = layers.Conv1D(64, 3, activation=\"relu\")(embedded_sequences)\n",
    "x = layers.MaxPooling1D(3)(x)\n",
    "# x = layers.Conv1D(64, 3, activation=\"relu\")(x)\n",
    "# x = layers.MaxPooling1D(5)(x)\n",
    "x = layers.Conv1D(64, 3, activation=\"relu\")(x)\n",
    "x = layers.GlobalMaxPooling1D()(x)\n",
    "x = layers.Dense(64, activation=\"relu\", kernel_regularizer=regularizers.l2(0.01))(x)\n",
    "x = layers.Dense(32, activation=\"relu\")(x)\n",
    "x = layers.Dropout(0.3)(x)\n",
    "preds = layers.Dense((num_classes), activation=\"softmax\")(x)\n",
    "model = keras.Model(int_sequences_input, preds)\n",
    "model.summary()\n",
    "\n",
    "model.compile(\n",
    "    loss=\"categorical_crossentropy\", optimizer=\"adam\", metrics=[\"acc\"]\n",
    ")\n"
   ]
  },
  {
   "cell_type": "code",
   "execution_count": 192,
   "id": "ece18baf-5d9c-4013-b119-d608dd525952",
   "metadata": {},
   "outputs": [
    {
     "name": "stdout",
     "output_type": "stream",
     "text": [
      "Epoch 1/20\n",
      "364/364 - 34s - loss: 2.6525 - acc: 0.1831 - val_loss: 2.3165 - val_acc: 0.2669 - 34s/epoch - 92ms/step\n",
      "Epoch 2/20\n",
      "364/364 - 31s - loss: 2.2950 - acc: 0.2586 - val_loss: 2.2095 - val_acc: 0.2864 - 31s/epoch - 86ms/step\n",
      "Epoch 3/20\n",
      "364/364 - 35s - loss: 2.1675 - acc: 0.3037 - val_loss: 2.1272 - val_acc: 0.3165 - 35s/epoch - 96ms/step\n",
      "Epoch 4/20\n",
      "364/364 - 33s - loss: 2.0809 - acc: 0.3290 - val_loss: 2.1157 - val_acc: 0.3171 - 33s/epoch - 90ms/step\n",
      "Epoch 5/20\n",
      "364/364 - 32s - loss: 1.9898 - acc: 0.3535 - val_loss: 2.0952 - val_acc: 0.3252 - 32s/epoch - 89ms/step\n",
      "Epoch 6/20\n",
      "364/364 - 31s - loss: 1.8877 - acc: 0.3805 - val_loss: 2.0845 - val_acc: 0.3206 - 31s/epoch - 86ms/step\n",
      "Epoch 7/20\n",
      "364/364 - 33s - loss: 1.7837 - acc: 0.4070 - val_loss: 2.1971 - val_acc: 0.2941 - 33s/epoch - 90ms/step\n",
      "Epoch 8/20\n",
      "364/364 - 32s - loss: 1.6901 - acc: 0.4295 - val_loss: 2.2173 - val_acc: 0.3025 - 32s/epoch - 87ms/step\n",
      "Epoch 9/20\n",
      "364/364 - 33s - loss: 1.5749 - acc: 0.4574 - val_loss: 2.3523 - val_acc: 0.2962 - 33s/epoch - 89ms/step\n",
      "Epoch 10/20\n",
      "364/364 - 31s - loss: 1.4885 - acc: 0.4810 - val_loss: 2.4157 - val_acc: 0.2672 - 31s/epoch - 86ms/step\n",
      "Epoch 11/20\n",
      "364/364 - 32s - loss: 1.3739 - acc: 0.5097 - val_loss: 2.6373 - val_acc: 0.3025 - 32s/epoch - 87ms/step\n",
      "Epoch 12/20\n",
      "364/364 - 31s - loss: 1.3041 - acc: 0.5367 - val_loss: 2.7342 - val_acc: 0.3070 - 31s/epoch - 86ms/step\n",
      "Epoch 13/20\n",
      "364/364 - 32s - loss: 1.2317 - acc: 0.5608 - val_loss: 2.7734 - val_acc: 0.2896 - 32s/epoch - 88ms/step\n",
      "Epoch 14/20\n",
      "364/364 - 32s - loss: 1.1644 - acc: 0.5908 - val_loss: 2.8474 - val_acc: 0.2731 - 32s/epoch - 88ms/step\n",
      "Epoch 15/20\n",
      "364/364 - 31s - loss: 1.0817 - acc: 0.6197 - val_loss: 3.1709 - val_acc: 0.2616 - 31s/epoch - 86ms/step\n",
      "Epoch 16/20\n",
      "364/364 - 32s - loss: 1.0376 - acc: 0.6446 - val_loss: 3.4121 - val_acc: 0.2930 - 32s/epoch - 88ms/step\n",
      "Epoch 17/20\n",
      "364/364 - 31s - loss: 1.0032 - acc: 0.6598 - val_loss: 3.3828 - val_acc: 0.2557 - 31s/epoch - 85ms/step\n",
      "Epoch 18/20\n",
      "364/364 - 32s - loss: 0.9363 - acc: 0.6742 - val_loss: 3.8464 - val_acc: 0.2791 - 32s/epoch - 88ms/step\n",
      "Epoch 19/20\n",
      "364/364 - 31s - loss: 0.8869 - acc: 0.6985 - val_loss: 4.1516 - val_acc: 0.2815 - 31s/epoch - 86ms/step\n",
      "Epoch 20/20\n",
      "364/364 - 32s - loss: 0.8335 - acc: 0.7219 - val_loss: 4.1492 - val_acc: 0.2606 - 32s/epoch - 88ms/step\n",
      "CNN Glove model train time = 641 seconds\n"
     ]
    }
   ],
   "source": [
    "# filepath=\"/home/jupyter/data/dl_models/cnn_glove_multi_weights_best\"\n",
    "\n",
    "# checkpoint = ModelCheckpoint(filepath, monitor='val_acc',\n",
    "#                              verbose=1, save_best_only=True, save_weights_only=False, overwrite=True, mode='max')\n",
    "# #only save model if it improves the accuracy\n",
    "\n",
    "# callbacks_list = [checkpoint]\n",
    "\n",
    "# Define early stopping callback\n",
    "#early_stopping = EarlyStopping(monitor=\"val_loss\", patience=3, restore_best_weights=True)\n",
    "\n",
    "t1 = time.time()\n",
    "history = model.fit(X_train, Y_train,\n",
    "                    batch_size=batch_size, \n",
    "                    epochs=num_epochs,\n",
    "                    validation_data=(X_test, Y_test),\n",
    "                    #callbacks = [early_stopping],\n",
    "                    verbose=2)\n",
    "t2 = time.time()\n",
    "print(\"CNN Glove model train time = %d seconds\" %(t2-t1))\n",
    "\n",
    "CNN_static_glove_multiclass_history = history"
   ]
  },
  {
   "cell_type": "code",
   "execution_count": 193,
   "id": "298e7f64-8cba-496d-9f54-34c905d51538",
   "metadata": {},
   "outputs": [],
   "source": [
    "def plot_train(history):\n",
    "    \"\"\"\n",
    "    Plot the keras epoch results thru training\n",
    "    \"\"\"\n",
    "    h = history.history\n",
    "    epochs = range(1, len(h['acc']) + 1)\n",
    "    plt.plot(epochs, h['acc'], 'go', label='Training acc')\n",
    "    plt.plot(epochs, h['val_acc'], 'g', label='Validation acc')\n",
    "    plt.title('Training and Validation Accuracy')\n",
    "    plt.xlabel('Epochs')\n",
    "    plt.ylabel('Accuracy')\n",
    "    plt.legend()\n",
    "    plt.show()"
   ]
  },
  {
   "cell_type": "code",
   "execution_count": 194,
   "id": "450a4254-98a8-4767-a4a6-66431ba1512e",
   "metadata": {},
   "outputs": [
    {
     "data": {
      "image/png": "[encoded data removed]",
      "text/plain": [
       "<Figure size 640x480 with 1 Axes>"
      ]
     },
     "metadata": {},
     "output_type": "display_data"
    }
   ],
   "source": [
    "plot_train(CNN_static_glove_multiclass_history)"
   ]
  },
  {
   "cell_type": "code",
   "execution_count": null,
   "id": "06676965-d803-4116-a6e5-a7bc8048ccc2",
   "metadata": {},
   "outputs": [],
   "source": []
  }
 ],
 "metadata": {
  "environment": {
   "kernel": "python3",
   "name": "tf2-gpu.2-11.m108",
   "type": "gcloud",
   "uri": "gcr.io/deeplearning-platform-release/tf2-gpu.2-11:m108"
  },
  "kernelspec": {
   "display_name": "Python 3 (ipykernel)",
   "language": "python",
   "name": "python3"
  },
  "language_info": {
   "codemirror_mode": {
    "name": "ipython",
    "version": 3
   },
   "file_extension": ".py",
   "mimetype": "text/x-python",
   "name": "python",
   "nbconvert_exporter": "python",
   "pygments_lexer": "ipython3",
   "version": "3.10.10"
  }
 },
 "nbformat": 4,
 "nbformat_minor": 5
}
